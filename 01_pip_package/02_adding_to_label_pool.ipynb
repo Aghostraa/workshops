{
 "cells": [
  {
   "cell_type": "markdown",
   "id": "ddac869b",
   "metadata": {},
   "source": [
    "# Adding your label to the OLI Label Pool"
   ]
  },
  {
   "cell_type": "code",
   "execution_count": 2,
   "id": "61e1bbee",
   "metadata": {},
   "outputs": [
    {
     "name": "stdout",
     "output_type": "stream",
     "text": [
      "Requirement already satisfied: oli-python in /opt/homebrew/lib/python3.11/site-packages (1.2.1)\n",
      "Requirement already satisfied: python-dotenv in /opt/homebrew/lib/python3.11/site-packages (1.1.1)\n",
      "Requirement already satisfied: web3>=6.0.0 in /opt/homebrew/lib/python3.11/site-packages (from oli-python) (7.12.0)\n",
      "Requirement already satisfied: PyYAML>=6.0.0 in /opt/homebrew/lib/python3.11/site-packages (from oli-python) (6.0.3)\n",
      "Requirement already satisfied: eth-abi>=5.0.1 in /opt/homebrew/lib/python3.11/site-packages (from web3>=6.0.0->oli-python) (5.2.0)\n",
      "Requirement already satisfied: eth-account>=0.13.6 in /opt/homebrew/lib/python3.11/site-packages (from web3>=6.0.0->oli-python) (0.13.7)\n",
      "Requirement already satisfied: eth-hash>=0.5.1 in /opt/homebrew/lib/python3.11/site-packages (from eth-hash[pycryptodome]>=0.5.1->web3>=6.0.0->oli-python) (0.7.1)\n",
      "Requirement already satisfied: eth-typing>=5.0.0 in /opt/homebrew/lib/python3.11/site-packages (from web3>=6.0.0->oli-python) (5.2.1)\n",
      "Requirement already satisfied: eth-utils>=5.0.0 in /opt/homebrew/lib/python3.11/site-packages (from web3>=6.0.0->oli-python) (5.3.0)\n",
      "Requirement already satisfied: hexbytes>=1.2.0 in /opt/homebrew/lib/python3.11/site-packages (from web3>=6.0.0->oli-python) (1.3.1)\n",
      "Requirement already satisfied: aiohttp>=3.7.4.post0 in /opt/homebrew/lib/python3.11/site-packages (from web3>=6.0.0->oli-python) (3.12.15)\n",
      "Requirement already satisfied: pydantic>=2.4.0 in /opt/homebrew/lib/python3.11/site-packages (from web3>=6.0.0->oli-python) (2.11.7)\n",
      "Requirement already satisfied: requests>=2.23.0 in /opt/homebrew/lib/python3.11/site-packages (from web3>=6.0.0->oli-python) (2.32.4)\n",
      "Requirement already satisfied: typing-extensions>=4.0.1 in /opt/homebrew/lib/python3.11/site-packages (from web3>=6.0.0->oli-python) (4.14.1)\n",
      "Requirement already satisfied: types-requests>=2.0.0 in /opt/homebrew/lib/python3.11/site-packages (from web3>=6.0.0->oli-python) (2.32.4.20250809)\n",
      "Requirement already satisfied: websockets<16.0.0,>=10.0.0 in /opt/homebrew/lib/python3.11/site-packages (from web3>=6.0.0->oli-python) (15.0.1)\n",
      "Requirement already satisfied: pyunormalize>=15.0.0 in /opt/homebrew/lib/python3.11/site-packages (from web3>=6.0.0->oli-python) (16.0.0)\n",
      "Requirement already satisfied: aiohappyeyeballs>=2.5.0 in /opt/homebrew/lib/python3.11/site-packages (from aiohttp>=3.7.4.post0->web3>=6.0.0->oli-python) (2.6.1)\n",
      "Requirement already satisfied: aiosignal>=1.4.0 in /opt/homebrew/lib/python3.11/site-packages (from aiohttp>=3.7.4.post0->web3>=6.0.0->oli-python) (1.4.0)\n",
      "Requirement already satisfied: attrs>=17.3.0 in /opt/homebrew/lib/python3.11/site-packages (from aiohttp>=3.7.4.post0->web3>=6.0.0->oli-python) (25.3.0)\n",
      "Requirement already satisfied: frozenlist>=1.1.1 in /opt/homebrew/lib/python3.11/site-packages (from aiohttp>=3.7.4.post0->web3>=6.0.0->oli-python) (1.7.0)\n",
      "Requirement already satisfied: multidict<7.0,>=4.5 in /opt/homebrew/lib/python3.11/site-packages (from aiohttp>=3.7.4.post0->web3>=6.0.0->oli-python) (6.6.3)\n",
      "Requirement already satisfied: propcache>=0.2.0 in /opt/homebrew/lib/python3.11/site-packages (from aiohttp>=3.7.4.post0->web3>=6.0.0->oli-python) (0.3.2)\n",
      "Requirement already satisfied: yarl<2.0,>=1.17.0 in /opt/homebrew/lib/python3.11/site-packages (from aiohttp>=3.7.4.post0->web3>=6.0.0->oli-python) (1.20.1)\n",
      "Requirement already satisfied: idna>=2.0 in /opt/homebrew/lib/python3.11/site-packages (from yarl<2.0,>=1.17.0->aiohttp>=3.7.4.post0->web3>=6.0.0->oli-python) (3.10)\n",
      "Requirement already satisfied: parsimonious<0.11.0,>=0.10.0 in /opt/homebrew/lib/python3.11/site-packages (from eth-abi>=5.0.1->web3>=6.0.0->oli-python) (0.10.0)\n",
      "Requirement already satisfied: regex>=2022.3.15 in /opt/homebrew/lib/python3.11/site-packages (from parsimonious<0.11.0,>=0.10.0->eth-abi>=5.0.1->web3>=6.0.0->oli-python) (2024.11.6)\n",
      "Requirement already satisfied: bitarray>=2.4.0 in /opt/homebrew/lib/python3.11/site-packages (from eth-account>=0.13.6->web3>=6.0.0->oli-python) (3.6.0)\n",
      "Requirement already satisfied: eth-keyfile<0.9.0,>=0.7.0 in /opt/homebrew/lib/python3.11/site-packages (from eth-account>=0.13.6->web3>=6.0.0->oli-python) (0.8.1)\n",
      "Requirement already satisfied: eth-keys>=0.4.0 in /opt/homebrew/lib/python3.11/site-packages (from eth-account>=0.13.6->web3>=6.0.0->oli-python) (0.7.0)\n",
      "Requirement already satisfied: eth-rlp>=2.1.0 in /opt/homebrew/lib/python3.11/site-packages (from eth-account>=0.13.6->web3>=6.0.0->oli-python) (2.2.0)\n",
      "Requirement already satisfied: rlp>=1.0.0 in /opt/homebrew/lib/python3.11/site-packages (from eth-account>=0.13.6->web3>=6.0.0->oli-python) (4.1.0)\n",
      "Requirement already satisfied: ckzg>=2.0.0 in /opt/homebrew/lib/python3.11/site-packages (from eth-account>=0.13.6->web3>=6.0.0->oli-python) (2.1.1)\n",
      "Requirement already satisfied: pycryptodome<4,>=3.6.6 in /opt/homebrew/lib/python3.11/site-packages (from eth-keyfile<0.9.0,>=0.7.0->eth-account>=0.13.6->web3>=6.0.0->oli-python) (3.23.0)\n",
      "Requirement already satisfied: cytoolz>=0.10.1 in /opt/homebrew/lib/python3.11/site-packages (from eth-utils>=5.0.0->web3>=6.0.0->oli-python) (1.0.1)\n",
      "Requirement already satisfied: annotated-types>=0.6.0 in /opt/homebrew/lib/python3.11/site-packages (from pydantic>=2.4.0->web3>=6.0.0->oli-python) (0.7.0)\n",
      "Requirement already satisfied: pydantic-core==2.33.2 in /opt/homebrew/lib/python3.11/site-packages (from pydantic>=2.4.0->web3>=6.0.0->oli-python) (2.33.2)\n",
      "Requirement already satisfied: typing-inspection>=0.4.0 in /opt/homebrew/lib/python3.11/site-packages (from pydantic>=2.4.0->web3>=6.0.0->oli-python) (0.4.1)\n",
      "Requirement already satisfied: toolz>=0.8.0 in /opt/homebrew/lib/python3.11/site-packages (from cytoolz>=0.10.1->eth-utils>=5.0.0->web3>=6.0.0->oli-python) (1.0.0)\n",
      "Requirement already satisfied: charset_normalizer<4,>=2 in /opt/homebrew/lib/python3.11/site-packages (from requests>=2.23.0->web3>=6.0.0->oli-python) (3.4.2)\n",
      "Requirement already satisfied: urllib3<3,>=1.21.1 in /opt/homebrew/lib/python3.11/site-packages (from requests>=2.23.0->web3>=6.0.0->oli-python) (2.4.0)\n",
      "Requirement already satisfied: certifi>=2017.4.17 in /opt/homebrew/lib/python3.11/site-packages (from requests>=2.23.0->web3>=6.0.0->oli-python) (2025.7.14)\n",
      "\n",
      "\u001b[1m[\u001b[0m\u001b[34;49mnotice\u001b[0m\u001b[1;39;49m]\u001b[0m\u001b[39;49m A new release of pip is available: \u001b[0m\u001b[31;49m25.1.1\u001b[0m\u001b[39;49m -> \u001b[0m\u001b[32;49m25.2\u001b[0m\n",
      "\u001b[1m[\u001b[0m\u001b[34;49mnotice\u001b[0m\u001b[1;39;49m]\u001b[0m\u001b[39;49m To update, run: \u001b[0m\u001b[32;49m/opt/homebrew/opt/python@3.11/bin/python3.11 -m pip install --upgrade pip\u001b[0m\n",
      "Note: you may need to restart the kernel to use updated packages.\n"
     ]
    }
   ],
   "source": [
    "# Install required packages\n",
    "%pip install oli-python python-dotenv\n"
   ]
  },
  {
   "cell_type": "code",
   "execution_count": null,
   "id": "5ec8e49a",
   "metadata": {},
   "outputs": [],
   "source": [
    "# Task 0: create a .env file to store your EVM private key which is used to keep track of your reputation"
   ]
  },
  {
   "cell_type": "code",
   "execution_count": 3,
   "id": "27f93e32",
   "metadata": {},
   "outputs": [
    {
     "name": "stdout",
     "output_type": "stream",
     "text": [
      "Initializing OLI API client...\n",
      "...OLI client successfully initialized.\n"
     ]
    }
   ],
   "source": [
    "# Task 1: initialize the OLI object with your private key from the .env file\n",
    "\n",
    "from oli import OLI\n",
    "import os\n",
    "from dotenv import load_dotenv\n",
    "\n",
    "load_dotenv()\n",
    "pk = os.getenv(\"pk\")\n",
    "\n",
    "oli = OLI(private_key=pk, is_production=False) # by setting is_production to False we are using Base Sepolia testnet to attest"
   ]
  },
  {
   "cell_type": "code",
   "execution_count": 4,
   "id": "8af0ed10",
   "metadata": {},
   "outputs": [
    {
     "name": "stdout",
     "output_type": "stream",
     "text": [
      "Attestation Response:\n",
      "<Response [200]>\n"
     ]
    }
   ],
   "source": [
    "# Task 2: (offchain) attest one label to the OLI Label Pool & print the response\n",
    "\n",
    "# Create a sample label\n",
    "address = \"0x765DE816845861e75A25fCA122bb6898B8B1282a\"\n",
    "chain_id = \"eip155:42220\"\n",
    "tag_id = {\"contract_name\": \"CUSD\"}\n",
    "\n",
    "# Submit the label offchain and print the response\n",
    "response = oli.submit_offchain_label(address, chain_id, tag_id)\n",
    "print(\"Attestation Response:\")\n",
    "print(response)\n",
    "\n",
    "# Then check your attestation on EAS scan: https://base-sepolia.easscan.org/"
   ]
  },
  {
   "cell_type": "code",
   "execution_count": null,
   "id": "1b4e7078",
   "metadata": {},
   "outputs": [],
   "source": [
    "# Task 3: (offchain) attest all your labels to the OLI Label Pool & print the response"
   ]
  },
  {
   "cell_type": "code",
   "execution_count": null,
   "id": "13296d12",
   "metadata": {},
   "outputs": [],
   "source": [
    "# Task 3.1 & 3.2 requires you to have Base Sepolia testnet ETH in your wallet!\n",
    "\n",
    "# Task 3.1: Bulk onchain attest all your labels to the OLI Label Pool & print the response\n",
    "# Task 3.2: Revoke one of your labels & print the response"
   ]
  },
  {
   "cell_type": "code",
   "execution_count": 8,
   "id": "63ff16a1",
   "metadata": {},
   "outputs": [
    {
     "name": "stdout",
     "output_type": "stream",
     "text": [
      "Attestation Query Results:\n",
      "{'data': {'attestations': []}}\n"
     ]
    }
   ],
   "source": [
    "# Task 4: Use graphQL to read your own label from the OLI Label Pool and print it, use the function \"graphql_query_attestations\"\n",
    "\n",
    "# Query attestations from your address\n",
    "\n",
    "address = \"0x1ea6a3aF6BeF441021B076a06954B4a6d14D12C4\"  # TO address\n",
    "chain_id=\"eip155:8453\" # SCHEMA ID\n",
    "\n",
    "# Query the attestations (using only attester and schema_id parameters)\n",
    "attestations = oli.graphql_query_attestations(\n",
    "    address = \"0x1ea6a3aF6BeF441021B076a06954B4a6d14D12C4\"\n",
    "\n",
    ")\n",
    "\n",
    "print(\"Attestation Query Results:\")\n",
    "print(attestations)"
   ]
  }
 ],
 "metadata": {
  "kernelspec": {
   "display_name": "Python 3",
   "language": "python",
   "name": "python3"
  },
  "language_info": {
   "codemirror_mode": {
    "name": "ipython",
    "version": 3
   },
   "file_extension": ".py",
   "mimetype": "text/x-python",
   "name": "python",
   "nbconvert_exporter": "python",
   "pygments_lexer": "ipython3",
   "version": "3.11.13"
  }
 },
 "nbformat": 4,
 "nbformat_minor": 5
}
