{
 "cells": [
  {
   "cell_type": "markdown",
   "id": "ddac869b",
   "metadata": {},
   "source": [
    "# Adding your label to the OLI Label Pool"
   ]
  },
  {
   "cell_type": "code",
   "execution_count": null,
   "id": "5ec8e49a",
   "metadata": {},
   "outputs": [],
   "source": [
    "# Task 0: create a .env file to store your EVM private key which is used to keep track of your reputation"
   ]
  },
  {
   "cell_type": "code",
   "execution_count": null,
   "id": "27f93e32",
   "metadata": {},
   "outputs": [],
   "source": [
    "# Task 1: initialize the OLI object with your private key from the .env file\n",
    "\n",
    "from oli import OLI\n",
    "import os\n",
    "\n",
    "pk = os.getenv(\"PRIVATE_KEY\")\n",
    "\n",
    "oli = OLI(private_key=\"...\", is_production=False) # by setting is_production to False we are using Base Sepolia testnet to attest"
   ]
  },
  {
   "cell_type": "code",
   "execution_count": null,
   "id": "8af0ed10",
   "metadata": {},
   "outputs": [],
   "source": [
    "# Task 2: (offchain) attest one label to the OLI Label Pool & print the response\n",
    "\n",
    "# Tipp: use the function \"submit_offchain_label\"\n",
    "\n",
    "# Then check your attestation on EAS scan: https://base-sepolia.easscan.org/"
   ]
  },
  {
   "cell_type": "code",
   "execution_count": null,
   "id": "1b4e7078",
   "metadata": {},
   "outputs": [],
   "source": [
    "# Task 3: (offchain) attest all your labels to the OLI Label Pool & print the response"
   ]
  },
  {
   "cell_type": "code",
   "execution_count": null,
   "id": "13296d12",
   "metadata": {},
   "outputs": [],
   "source": [
    "# Task 3.1 & 3.2 requires you to have Base Sepolia testnet ETH in your wallet!\n",
    "\n",
    "# Task 3.1: Bulk onchain attest all your labels to the OLI Label Pool & print the response\n",
    "# Task 3.2: Revoke one of your labels & print the response"
   ]
  },
  {
   "cell_type": "code",
   "execution_count": null,
   "id": "63ff16a1",
   "metadata": {},
   "outputs": [],
   "source": [
    "# Task 4: Use graphQL to read your own label from the OLI Label Pool and print it, use the function \"graphql_query_attestations\""
   ]
  }
 ],
 "metadata": {
  "language_info": {
   "name": "python"
  }
 },
 "nbformat": 4,
 "nbformat_minor": 5
}
