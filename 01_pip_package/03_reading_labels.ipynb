{
 "cells": [
  {
   "cell_type": "markdown",
   "id": "102d0401",
   "metadata": {},
   "source": [
    "# Reading labels from the OLI Label Pool"
   ]
  },
  {
   "cell_type": "code",
   "execution_count": null,
   "id": "46b2c507",
   "metadata": {},
   "outputs": [],
   "source": [
    "# Task 0: Initialize the OLI object with your private key from the .env file and connect to production\n",
    "\n",
    "from oli import OLI\n",
    "import os\n",
    "\n",
    "oli = OLI(private_key=os.getenv(\"PRIVATE_KEY\"), is_production=True)"
   ]
  },
  {
   "cell_type": "code",
   "execution_count": null,
   "id": "0968aa24",
   "metadata": {},
   "outputs": [],
   "source": [
    "# Task 1: Find out as much information as possible about this address on Base\n",
    "address = \"0x9dDA6Ef3D919c9bC8885D5560999A3640431e8e6\"\n",
    "chain_id = \"eip:8453\""
   ]
  },
  {
   "cell_type": "code",
   "execution_count": null,
   "id": "6073b687",
   "metadata": {},
   "outputs": [],
   "source": [
    "# Task 2: Downlaod all labels from the OLI Label Pool as a parquet export, tipp use \"get_full_decoded_export_parquet\". Then load all labels into a pandas dataframe."
   ]
  },
  {
   "cell_type": "code",
   "execution_count": null,
   "id": "fbd7e0b9",
   "metadata": {},
   "outputs": [],
   "source": [
    "# Task 3: Get a list of all addresses that are associated with Metamask"
   ]
  },
  {
   "cell_type": "code",
   "execution_count": null,
   "id": "1d4313fb",
   "metadata": {},
   "outputs": [],
   "source": [
    "# Task 4: Get a list of all addresses that are a DEX on Base"
   ]
  },
  {
   "cell_type": "code",
   "execution_count": null,
   "id": "2277697b",
   "metadata": {},
   "outputs": [],
   "source": [
    "# Task 5: Pivot the dataframe to get a table with the following columns: address, chain_id, code_language, code_compiler"
   ]
  },
  {
   "cell_type": "code",
   "execution_count": null,
   "id": "2a3b9f4d",
   "metadata": {},
   "outputs": [],
   "source": [
    "# Task 6: Create a list of trusted labellers and filter down the dataframe to only include labels from these trusted labellers\n",
    "# OLI Label Trust is coming soon!"
   ]
  }
 ],
 "metadata": {
  "kernelspec": {
   "display_name": ".venv",
   "language": "python",
   "name": "python3"
  },
  "language_info": {
   "codemirror_mode": {
    "name": "ipython",
    "version": 3
   },
   "file_extension": ".py",
   "mimetype": "text/x-python",
   "name": "python",
   "nbconvert_exporter": "python",
   "pygments_lexer": "ipython3",
   "version": "3.12.7"
  }
 },
 "nbformat": 4,
 "nbformat_minor": 5
}
