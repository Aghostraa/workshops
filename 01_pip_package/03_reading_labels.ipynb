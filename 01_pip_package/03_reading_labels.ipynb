{
 "cells": [
  {
   "cell_type": "markdown",
   "id": "102d0401",
   "metadata": {},
   "source": [
    "# Reading labels from the OLI Label Pool"
   ]
  },
  {
   "cell_type": "code",
   "execution_count": null,
   "id": "36b5c3e3",
   "metadata": {},
   "outputs": [
    {
     "name": "stdout",
     "output_type": "stream",
     "text": [
      "Collecting fastparquet\n",
      "  Downloading fastparquet-2024.11.0-cp311-cp311-macosx_11_0_arm64.whl.metadata (4.2 kB)\n",
      "Requirement already satisfied: pandas>=1.5.0 in /opt/homebrew/lib/python3.11/site-packages (from fastparquet) (2.3.1)\n",
      "Requirement already satisfied: numpy in /opt/homebrew/lib/python3.11/site-packages (from fastparquet) (2.3.2)\n",
      "Collecting cramjam>=2.3 (from fastparquet)\n",
      "  Downloading cramjam-2.11.0-cp311-cp311-macosx_11_0_arm64.whl.metadata (5.6 kB)\n",
      "Collecting fsspec (from fastparquet)\n",
      "  Downloading fsspec-2025.9.0-py3-none-any.whl.metadata (10 kB)\n",
      "Requirement already satisfied: packaging in /opt/homebrew/lib/python3.11/site-packages (from fastparquet) (24.0)\n",
      "Requirement already satisfied: python-dateutil>=2.8.2 in /opt/homebrew/lib/python3.11/site-packages (from pandas>=1.5.0->fastparquet) (2.9.0.post0)\n",
      "Requirement already satisfied: pytz>=2020.1 in /opt/homebrew/lib/python3.11/site-packages (from pandas>=1.5.0->fastparquet) (2025.2)\n",
      "Requirement already satisfied: tzdata>=2022.7 in /opt/homebrew/lib/python3.11/site-packages (from pandas>=1.5.0->fastparquet) (2025.2)\n",
      "Requirement already satisfied: six>=1.5 in /opt/homebrew/lib/python3.11/site-packages (from python-dateutil>=2.8.2->pandas>=1.5.0->fastparquet) (1.17.0)\n",
      "Downloading fastparquet-2024.11.0-cp311-cp311-macosx_11_0_arm64.whl (683 kB)\n",
      "\u001b[2K   \u001b[90m━━━━━━━━━━━━━━━━━━━━━━━━━━━━━━━━━━━━━━━━\u001b[0m \u001b[32m683.8/683.8 kB\u001b[0m \u001b[31m5.5 MB/s\u001b[0m eta \u001b[36m0:00:00\u001b[0m\n",
      "\u001b[?25hDownloading cramjam-2.11.0-cp311-cp311-macosx_11_0_arm64.whl (1.7 MB)\n",
      "\u001b[2K   \u001b[90m━━━━━━━━━━━━━━━━━━━━━━━━━━━━━━━━━━━━━━━━\u001b[0m \u001b[32m1.7/1.7 MB\u001b[0m \u001b[31m2.5 MB/s\u001b[0m eta \u001b[36m0:00:00\u001b[0ma \u001b[36m0:00:01\u001b[0m\n",
      "\u001b[?25hDownloading fsspec-2025.9.0-py3-none-any.whl (199 kB)\n",
      "Installing collected packages: fsspec, cramjam, fastparquet\n",
      "\u001b[2K   \u001b[90m━━━━━━━━━━━━━━━━━━━━━━━━━━━━━━━━━━━━━━━━\u001b[0m \u001b[32m3/3\u001b[0m [fastparquet]\u001b[0m [fastparquet]\n",
      "\u001b[1A\u001b[2KSuccessfully installed cramjam-2.11.0 fastparquet-2024.11.0 fsspec-2025.9.0\n",
      "\n",
      "\u001b[1m[\u001b[0m\u001b[34;49mnotice\u001b[0m\u001b[1;39;49m]\u001b[0m\u001b[39;49m A new release of pip is available: \u001b[0m\u001b[31;49m25.1.1\u001b[0m\u001b[39;49m -> \u001b[0m\u001b[32;49m25.2\u001b[0m\n",
      "\u001b[1m[\u001b[0m\u001b[34;49mnotice\u001b[0m\u001b[1;39;49m]\u001b[0m\u001b[39;49m To update, run: \u001b[0m\u001b[32;49m/opt/homebrew/opt/python@3.11/bin/python3.11 -m pip install --upgrade pip\u001b[0m\n",
      "Note: you may need to restart the kernel to use updated packages.\n"
     ]
    }
   ],
   "source": [
    "# Install required packages for parquet support\n",
    "%pip install fastparquet\n"
   ]
  },
  {
   "cell_type": "code",
   "execution_count": 7,
   "id": "46b2c507",
   "metadata": {},
   "outputs": [
    {
     "name": "stdout",
     "output_type": "stream",
     "text": [
      "Initializing OLI API client...\n",
      "...OLI client successfully initialized.\n"
     ]
    }
   ],
   "source": [
    "# Task 0: Initialize the OLI object with your private key from the .env file and connect to production\n",
    "\n",
    "from oli import OLI\n",
    "import os\n",
    "import pandas as pd\n",
    "\n",
    "oli = OLI(private_key=os.getenv(\"pk\"), is_production=True)"
   ]
  },
  {
   "cell_type": "code",
   "execution_count": 5,
   "id": "0968aa24",
   "metadata": {},
   "outputs": [],
   "source": [
    "# Task 1: Find out as much information as possible about this address on Base\n",
    "address = \"0x9dDA6Ef3D919c9bC8885D5560999A3640431e8e6\"\n",
    "\n",
    "attestations = oli.graphql_query_attestations(address)\n"
   ]
  },
  {
   "cell_type": "code",
   "execution_count": 4,
   "id": "6073b687",
   "metadata": {},
   "outputs": [
    {
     "name": "stdout",
     "output_type": "stream",
     "text": [
      "Downloaded and saved: decoded_labels.parquet\n"
     ]
    },
    {
     "data": {
      "text/plain": [
       "'decoded_labels.parquet'"
      ]
     },
     "execution_count": 4,
     "metadata": {},
     "output_type": "execute_result"
    }
   ],
   "source": [
    "# Task 2: Downlaod all labels from the OLI Label Pool as a parquet export, tipp use \"get_full_decoded_export_parquet\". Then load all labels into a pandas dataframe.\n",
    "oli.get_full_decoded_export_parquet()"
   ]
  },
  {
   "cell_type": "code",
   "execution_count": null,
   "id": "083c4e9f",
   "metadata": {},
   "outputs": [
    {
     "name": "stdout",
     "output_type": "stream",
     "text": [
      "Re-downloading the parquet file...\n"
     ]
    }
   ],
   "source": [
    "# Try to re-download the file first\n",
    "print(\"Re-downloading the parquet file...\")\n",
    "oli.get_full_decoded_export_parquet()\n",
    "\n",
    "# Try reading with different engines\n",
    "try:\n",
    "    print(\"Trying with pyarrow engine...\")\n",
    "    df = pd.read_parquet(\"decoded_labels.parquet\", engine='pyarrow')\n",
    "    print(\"Success with pyarrow!\")\n",
    "except Exception as e:\n",
    "    print(f\"Pyarrow failed: {e}\")\n",
    "    try:\n",
    "        print(\"Trying with fastparquet engine...\")\n",
    "        df = pd.read_parquet(\"decoded_labels.parquet\", engine='fastparquet')\n",
    "        print(\"Success with fastparquet!\")\n",
    "    except Exception as e2:\n",
    "        print(f\"Fastparquet also failed: {e2}\")\n",
    "        print(\"Trying to read as CSV instead...\")\n",
    "        # If parquet fails, try to read as CSV\n",
    "        df = pd.read_csv(\"decoded_labels.parquet\")\n",
    "        print(\"Success reading as CSV!\")\n",
    "\n",
    "print(f\"DataFrame shape: {df.shape}\")\n",
    "print(f\"Columns: {list(df.columns)}\")\n",
    "df.head()"
   ]
  },
  {
   "cell_type": "code",
   "execution_count": null,
   "id": "fbd7e0b9",
   "metadata": {},
   "outputs": [],
   "source": [
    "# Task 3: Get a list of all addresses that are associated with Metamask"
   ]
  },
  {
   "cell_type": "code",
   "execution_count": null,
   "id": "1d4313fb",
   "metadata": {},
   "outputs": [],
   "source": [
    "# Task 4: Get a list of all addresses that are a DEX on Base"
   ]
  },
  {
   "cell_type": "code",
   "execution_count": null,
   "id": "2277697b",
   "metadata": {},
   "outputs": [],
   "source": [
    "# Task 5: Pivot the dataframe to get a table with the following columns: address, chain_id, code_language, code_compiler"
   ]
  },
  {
   "cell_type": "code",
   "execution_count": null,
   "id": "2a3b9f4d",
   "metadata": {},
   "outputs": [],
   "source": [
    "# Task 6: Create a list of trusted labellers and filter down the dataframe to only include labels from these trusted labellers\n",
    "# OLI Label Trust is coming soon!"
   ]
  }
 ],
 "metadata": {
  "kernelspec": {
   "display_name": "Python 3",
   "language": "python",
   "name": "python3"
  },
  "language_info": {
   "codemirror_mode": {
    "name": "ipython",
    "version": 3
   },
   "file_extension": ".py",
   "mimetype": "text/x-python",
   "name": "python",
   "nbconvert_exporter": "python",
   "pygments_lexer": "ipython3",
   "version": "3.11.13"
  }
 },
 "nbformat": 4,
 "nbformat_minor": 5
}
