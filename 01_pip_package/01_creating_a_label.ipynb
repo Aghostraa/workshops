{
 "cells": [
  {
   "cell_type": "markdown",
   "id": "1d79068e",
   "metadata": {},
   "source": [
    "# Creating a OLI compliant label\n",
    "\n",
    "### Task 0: install OLI pip package\n",
    "\n",
    "https://pypi.org/project/oli-python/\n",
    "\n",
    "create a python virtual enviroment and install:\n",
    "\n",
    "`pip install oli-python`"
   ]
  },
  {
   "cell_type": "code",
   "execution_count": 12,
   "id": "31a34189",
   "metadata": {},
   "outputs": [
    {
     "name": "stdout",
     "output_type": "stream",
     "text": [
      "Collecting oli-python\n",
      "  Using cached oli_python-1.2.1-py3-none-any.whl.metadata (4.3 kB)\n",
      "Requirement already satisfied: web3>=6.0.0 in /opt/homebrew/lib/python3.11/site-packages (from oli-python) (7.12.0)\n",
      "Collecting PyYAML>=6.0.0 (from oli-python)\n",
      "  Downloading pyyaml-6.0.3-cp311-cp311-macosx_11_0_arm64.whl.metadata (2.4 kB)\n",
      "Requirement already satisfied: eth-abi>=5.0.1 in /opt/homebrew/lib/python3.11/site-packages (from web3>=6.0.0->oli-python) (5.2.0)\n",
      "Requirement already satisfied: eth-account>=0.13.6 in /opt/homebrew/lib/python3.11/site-packages (from web3>=6.0.0->oli-python) (0.13.7)\n",
      "Requirement already satisfied: eth-hash>=0.5.1 in /opt/homebrew/lib/python3.11/site-packages (from eth-hash[pycryptodome]>=0.5.1->web3>=6.0.0->oli-python) (0.7.1)\n",
      "Requirement already satisfied: eth-typing>=5.0.0 in /opt/homebrew/lib/python3.11/site-packages (from web3>=6.0.0->oli-python) (5.2.1)\n",
      "Requirement already satisfied: eth-utils>=5.0.0 in /opt/homebrew/lib/python3.11/site-packages (from web3>=6.0.0->oli-python) (5.3.0)\n",
      "Requirement already satisfied: hexbytes>=1.2.0 in /opt/homebrew/lib/python3.11/site-packages (from web3>=6.0.0->oli-python) (1.3.1)\n",
      "Requirement already satisfied: aiohttp>=3.7.4.post0 in /opt/homebrew/lib/python3.11/site-packages (from web3>=6.0.0->oli-python) (3.12.15)\n",
      "Requirement already satisfied: pydantic>=2.4.0 in /opt/homebrew/lib/python3.11/site-packages (from web3>=6.0.0->oli-python) (2.11.7)\n",
      "Requirement already satisfied: requests>=2.23.0 in /opt/homebrew/lib/python3.11/site-packages (from web3>=6.0.0->oli-python) (2.32.4)\n",
      "Requirement already satisfied: typing-extensions>=4.0.1 in /opt/homebrew/lib/python3.11/site-packages (from web3>=6.0.0->oli-python) (4.14.1)\n",
      "Requirement already satisfied: types-requests>=2.0.0 in /opt/homebrew/lib/python3.11/site-packages (from web3>=6.0.0->oli-python) (2.32.4.20250809)\n",
      "Requirement already satisfied: websockets<16.0.0,>=10.0.0 in /opt/homebrew/lib/python3.11/site-packages (from web3>=6.0.0->oli-python) (15.0.1)\n",
      "Requirement already satisfied: pyunormalize>=15.0.0 in /opt/homebrew/lib/python3.11/site-packages (from web3>=6.0.0->oli-python) (16.0.0)\n",
      "Requirement already satisfied: aiohappyeyeballs>=2.5.0 in /opt/homebrew/lib/python3.11/site-packages (from aiohttp>=3.7.4.post0->web3>=6.0.0->oli-python) (2.6.1)\n",
      "Requirement already satisfied: aiosignal>=1.4.0 in /opt/homebrew/lib/python3.11/site-packages (from aiohttp>=3.7.4.post0->web3>=6.0.0->oli-python) (1.4.0)\n",
      "Requirement already satisfied: attrs>=17.3.0 in /opt/homebrew/lib/python3.11/site-packages (from aiohttp>=3.7.4.post0->web3>=6.0.0->oli-python) (25.3.0)\n",
      "Requirement already satisfied: frozenlist>=1.1.1 in /opt/homebrew/lib/python3.11/site-packages (from aiohttp>=3.7.4.post0->web3>=6.0.0->oli-python) (1.7.0)\n",
      "Requirement already satisfied: multidict<7.0,>=4.5 in /opt/homebrew/lib/python3.11/site-packages (from aiohttp>=3.7.4.post0->web3>=6.0.0->oli-python) (6.6.3)\n",
      "Requirement already satisfied: propcache>=0.2.0 in /opt/homebrew/lib/python3.11/site-packages (from aiohttp>=3.7.4.post0->web3>=6.0.0->oli-python) (0.3.2)\n",
      "Requirement already satisfied: yarl<2.0,>=1.17.0 in /opt/homebrew/lib/python3.11/site-packages (from aiohttp>=3.7.4.post0->web3>=6.0.0->oli-python) (1.20.1)\n",
      "Requirement already satisfied: idna>=2.0 in /opt/homebrew/lib/python3.11/site-packages (from yarl<2.0,>=1.17.0->aiohttp>=3.7.4.post0->web3>=6.0.0->oli-python) (3.10)\n",
      "Requirement already satisfied: parsimonious<0.11.0,>=0.10.0 in /opt/homebrew/lib/python3.11/site-packages (from eth-abi>=5.0.1->web3>=6.0.0->oli-python) (0.10.0)\n",
      "Requirement already satisfied: regex>=2022.3.15 in /opt/homebrew/lib/python3.11/site-packages (from parsimonious<0.11.0,>=0.10.0->eth-abi>=5.0.1->web3>=6.0.0->oli-python) (2024.11.6)\n",
      "Requirement already satisfied: bitarray>=2.4.0 in /opt/homebrew/lib/python3.11/site-packages (from eth-account>=0.13.6->web3>=6.0.0->oli-python) (3.6.0)\n",
      "Requirement already satisfied: eth-keyfile<0.9.0,>=0.7.0 in /opt/homebrew/lib/python3.11/site-packages (from eth-account>=0.13.6->web3>=6.0.0->oli-python) (0.8.1)\n",
      "Requirement already satisfied: eth-keys>=0.4.0 in /opt/homebrew/lib/python3.11/site-packages (from eth-account>=0.13.6->web3>=6.0.0->oli-python) (0.7.0)\n",
      "Requirement already satisfied: eth-rlp>=2.1.0 in /opt/homebrew/lib/python3.11/site-packages (from eth-account>=0.13.6->web3>=6.0.0->oli-python) (2.2.0)\n",
      "Requirement already satisfied: rlp>=1.0.0 in /opt/homebrew/lib/python3.11/site-packages (from eth-account>=0.13.6->web3>=6.0.0->oli-python) (4.1.0)\n",
      "Requirement already satisfied: ckzg>=2.0.0 in /opt/homebrew/lib/python3.11/site-packages (from eth-account>=0.13.6->web3>=6.0.0->oli-python) (2.1.1)\n",
      "Requirement already satisfied: pycryptodome<4,>=3.6.6 in /opt/homebrew/lib/python3.11/site-packages (from eth-keyfile<0.9.0,>=0.7.0->eth-account>=0.13.6->web3>=6.0.0->oli-python) (3.23.0)\n",
      "Requirement already satisfied: cytoolz>=0.10.1 in /opt/homebrew/lib/python3.11/site-packages (from eth-utils>=5.0.0->web3>=6.0.0->oli-python) (1.0.1)\n",
      "Requirement already satisfied: annotated-types>=0.6.0 in /opt/homebrew/lib/python3.11/site-packages (from pydantic>=2.4.0->web3>=6.0.0->oli-python) (0.7.0)\n",
      "Requirement already satisfied: pydantic-core==2.33.2 in /opt/homebrew/lib/python3.11/site-packages (from pydantic>=2.4.0->web3>=6.0.0->oli-python) (2.33.2)\n",
      "Requirement already satisfied: typing-inspection>=0.4.0 in /opt/homebrew/lib/python3.11/site-packages (from pydantic>=2.4.0->web3>=6.0.0->oli-python) (0.4.1)\n",
      "Requirement already satisfied: toolz>=0.8.0 in /opt/homebrew/lib/python3.11/site-packages (from cytoolz>=0.10.1->eth-utils>=5.0.0->web3>=6.0.0->oli-python) (1.0.0)\n",
      "Requirement already satisfied: charset_normalizer<4,>=2 in /opt/homebrew/lib/python3.11/site-packages (from requests>=2.23.0->web3>=6.0.0->oli-python) (3.4.2)\n",
      "Requirement already satisfied: urllib3<3,>=1.21.1 in /opt/homebrew/lib/python3.11/site-packages (from requests>=2.23.0->web3>=6.0.0->oli-python) (2.4.0)\n",
      "Requirement already satisfied: certifi>=2017.4.17 in /opt/homebrew/lib/python3.11/site-packages (from requests>=2.23.0->web3>=6.0.0->oli-python) (2025.7.14)\n",
      "Using cached oli_python-1.2.1-py3-none-any.whl (19 kB)\n",
      "Downloading pyyaml-6.0.3-cp311-cp311-macosx_11_0_arm64.whl (175 kB)\n",
      "Installing collected packages: PyYAML, oli-python\n",
      "\u001b[2K   \u001b[90m━━━━━━━━━━━━━━━━━━━━━━━━━━━━━━━━━━━━━━━━\u001b[0m \u001b[32m2/2\u001b[0m [oli-python]\n",
      "\u001b[1A\u001b[2KSuccessfully installed PyYAML-6.0.3 oli-python-1.2.1\n",
      "\n",
      "\u001b[1m[\u001b[0m\u001b[34;49mnotice\u001b[0m\u001b[1;39;49m]\u001b[0m\u001b[39;49m A new release of pip is available: \u001b[0m\u001b[31;49m25.1.1\u001b[0m\u001b[39;49m -> \u001b[0m\u001b[32;49m25.2\u001b[0m\n",
      "\u001b[1m[\u001b[0m\u001b[34;49mnotice\u001b[0m\u001b[1;39;49m]\u001b[0m\u001b[39;49m To update, run: \u001b[0m\u001b[32;49m/opt/homebrew/opt/python@3.11/bin/python3.11 -m pip install --upgrade pip\u001b[0m\n",
      "Note: you may need to restart the kernel to use updated packages.\n"
     ]
    }
   ],
   "source": [
    "# Install the oli-python package\n",
    "%pip install oli-python\n"
   ]
  },
  {
   "cell_type": "code",
   "execution_count": 13,
   "id": "c9e1a3b1",
   "metadata": {},
   "outputs": [],
   "source": [
    "# Task 1: create an OLI compliant label\n",
    "\n",
    "# Understanding the OLI Label Schema: https://www.openlabelsinitiative.org/docs?section=label-schema\n",
    "# All OLI compliant tag_ids: https://www.openlabelsinitiative.org/docs?section=tag-documentation\n",
    "\n",
    "address = \"0x765DE816845861e75A25fCA122bb6898B8B1282a\"\n",
    "chain_id = \"eip155:42220\"\n",
    "tag_id = {\"contract_name\":\"CUSD\"}"
   ]
  },
  {
   "cell_type": "code",
   "execution_count": 14,
   "id": "d83d283a",
   "metadata": {},
   "outputs": [
    {
     "name": "stdout",
     "output_type": "stream",
     "text": [
      "Initializing OLI API client...\n",
      "WARNING: Private key not provided. Please set the OLI_PRIVATE_KEY environment variable in case you plan to submit labels.\n",
      "WARNING: OLI client in read mode only.\n",
      "...OLI client successfully initialized.\n",
      "The label is OLI compliant: True\n"
     ]
    }
   ],
   "source": [
    "# Task 2: check if your label is OLI compliant\n",
    "\n",
    "from oli import OLI\n",
    "oli = OLI()\n",
    "\n",
    "is_compliant = oli.validate_label_correctness(address, chain_id, tag_id)\n",
    "print(f\"The label is OLI compliant: {is_compliant}\")"
   ]
  },
  {
   "cell_type": "code",
   "execution_count": null,
   "id": "42dadc46",
   "metadata": {},
   "outputs": [],
   "source": [
    "# Task 3: create a list of OLI compliant labels\n",
    "\n",
    "labels = []"
   ]
  }
 ],
 "metadata": {
  "kernelspec": {
   "display_name": "Python 3",
   "language": "python",
   "name": "python3"
  },
  "language_info": {
   "codemirror_mode": {
    "name": "ipython",
    "version": 3
   },
   "file_extension": ".py",
   "mimetype": "text/x-python",
   "name": "python",
   "nbconvert_exporter": "python",
   "pygments_lexer": "ipython3",
   "version": "3.11.13"
  }
 },
 "nbformat": 4,
 "nbformat_minor": 5
}
