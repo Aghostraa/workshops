{
 "cells": [
  {
   "cell_type": "markdown",
   "id": "1d79068e",
   "metadata": {},
   "source": [
    "# Creating a OLI compliant label\n",
    "\n",
    "### Task 0: install OLI pip package\n",
    "\n",
    "https://pypi.org/project/oli-python/\n",
    "\n",
    "create a python virtual enviroment and install:\n",
    "\n",
    "`pip install oli-python`"
   ]
  },
  {
   "cell_type": "code",
   "execution_count": null,
   "id": "c9e1a3b1",
   "metadata": {},
   "outputs": [],
   "source": [
    "# Task 1: create an OLI compliant label\n",
    "\n",
    "# Understanding the OLI Label Schema: https://www.openlabelsinitiative.org/docs?section=label-schema\n",
    "# All OLI compliant tag_ids: https://www.openlabelsinitiative.org/docs?section=tag-documentation\n",
    "\n",
    "address = \"\"\n",
    "chain_id = \"\"\n",
    "tag_id = {}"
   ]
  },
  {
   "cell_type": "code",
   "execution_count": null,
   "id": "d83d283a",
   "metadata": {},
   "outputs": [],
   "source": [
    "# Task 2: check if your label is OLI compliant\n",
    "\n",
    "from oli import OLI\n",
    "oli = OLI()\n",
    "\n",
    "is_compliant = oli.validate_label_correctness(address, chain_id, tag_id)\n",
    "print(f\"The label is OLI compliant: {is_compliant}\")"
   ]
  },
  {
   "cell_type": "code",
   "execution_count": null,
   "id": "42dadc46",
   "metadata": {},
   "outputs": [],
   "source": [
    "# Task 3: create a list of OLI compliant labels\n",
    "\n",
    "labels = []"
   ]
  }
 ],
 "metadata": {
  "kernelspec": {
   "display_name": ".venv",
   "language": "python",
   "name": "python3"
  },
  "language_info": {
   "codemirror_mode": {
    "name": "ipython",
    "version": 3
   },
   "file_extension": ".py",
   "mimetype": "text/x-python",
   "name": "python",
   "nbconvert_exporter": "python",
   "pygments_lexer": "ipython3",
   "version": "3.12.7"
  }
 },
 "nbformat": 4,
 "nbformat_minor": 5
}
